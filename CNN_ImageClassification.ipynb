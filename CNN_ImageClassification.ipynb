{
  "nbformat": 4,
  "nbformat_minor": 0,
  "metadata": {
    "colab": {
      "name": "CNN_ImageClassification.ipynb",
      "version": "0.3.2",
      "provenance": [],
      "collapsed_sections": []
    },
    "kernelspec": {
      "name": "python3",
      "display_name": "Python 3"
    },
    "accelerator": "GPU"
  },
  "cells": [
    {
      "cell_type": "markdown",
      "metadata": {
        "id": "view-in-github",
        "colab_type": "text"
      },
      "source": [
        "[View in Colaboratory](https://colab.research.google.com/github/thochewa/GoogleColab/blob/master/CNN_ImageClassification.ipynb)"
      ]
    },
    {
      "metadata": {
        "id": "ru3liEfh-xbw",
        "colab_type": "text"
      },
      "cell_type": "markdown",
      "source": [
        "#Using the Google Colab Environment to run GPU-based CNN classification tasks\n",
        "\n",
        "The following code \n",
        "- establishes a connection with GoogleDrive (optional)\n",
        "- imports the data (.zip data and .py model file) from either Drive or a local environment\n",
        "- runs the .py model based on the extracted .zip data"
      ]
    },
    {
      "metadata": {
        "id": "VArccl8b1Eh0",
        "colab_type": "text"
      },
      "cell_type": "markdown",
      "source": [
        "##Establish conncetion with GoogleDrive\n",
        "\n",
        "use Drive or local or a mixture of both data import options"
      ]
    },
    {
      "metadata": {
        "id": "Pm13Pv8c2flc",
        "colab_type": "code",
        "colab": {}
      },
      "cell_type": "code",
      "source": [
        "# Installing PyDrive\n",
        "\n",
        "!pip install -U -q PyDrive\n",
        "import os\n",
        "from pydrive.auth import GoogleAuth\n",
        "from pydrive.drive import GoogleDrive\n",
        "from google.colab import auth\n",
        "from oauth2client.client import GoogleCredentials\n",
        "\n",
        "# Authentication and creating PyDrive client\n",
        "auth.authenticate_user()\n",
        "gauth = GoogleAuth()\n",
        "gauth.credentials = GoogleCredentials.get_application_default()\n",
        "drive = GoogleDrive(gauth)\n",
        "\n"
      ],
      "execution_count": 0,
      "outputs": []
    },
    {
      "metadata": {
        "id": "ejB4XOa9--Al",
        "colab_type": "text"
      },
      "cell_type": "markdown",
      "source": [
        "## Importing data\n",
        "\n",
        "Import files from Google Drive (requires code snipped above)"
      ]
    },
    {
      "metadata": {
        "id": "JiWVmvTS-VFS",
        "colab_type": "code",
        "colab": {}
      },
      "cell_type": "code",
      "source": [
        "# choose a local (colab) directory to store the data.\n",
        "local_download_path = os.path.expanduser('~/data')\n",
        "try:\n",
        "  os.makedirs(local_download_path)\n",
        "except: pass\n",
        "\n",
        "# 2. Auto-iterate using the query syntax\n",
        "#    https://developers.google.com/drive/v2/web/search-parameters\n",
        "#    loadin .tar file with images\n",
        "file_list = drive.ListFile(\n",
        "    {'q': \"'1qy57yAN9GxGZhhV_Y7TSiWfa7eQle8vq' in parents\"}).GetList()\n",
        "\n",
        "for f in file_list:\n",
        "  # 3. Create & download by id.\n",
        "  print('title: %s, id: %s' % (f['title'], f['id']))\n",
        "  fname = os.path.join(local_download_path, f['title'])\n",
        "  print('downloading to {}'.format(fname))\n",
        "  f_ = drive.CreateFile({'id': f['id']})\n",
        "  f_.GetContentFile(fname)\n",
        "\n",
        "\n",
        "with open(fname, 'r') as f:\n",
        "  print(f.read())"
      ],
      "execution_count": 0,
      "outputs": []
    },
    {
      "metadata": {
        "id": "uefkMKYg_NMX",
        "colab_type": "text"
      },
      "cell_type": "markdown",
      "source": [
        "##Model files can also be loaded from local machine\n",
        "\n",
        "Code below needs to be run as often as files are needed. For example. if you need a .py model file and data to train on (assume it is packaged as a .zip file), you need to run the code twice to import two files:\n",
        "- .zip data file\n",
        "- .py model file"
      ]
    },
    {
      "metadata": {
        "id": "0gV6sLAh9LxQ",
        "colab_type": "code",
        "colab": {}
      },
      "cell_type": "code",
      "source": [
        "def upload_files():\n",
        "  from google.colab import files\n",
        "  uploaded = files.upload()\n",
        "  for k, v in uploaded.items():\n",
        "    open(k, 'wb').write(v)\n",
        "  return list(uploaded.keys())\n",
        "\n",
        "# Upload required files (pop up button will appear)\n",
        "upload_files()"
      ],
      "execution_count": 0,
      "outputs": []
    },
    {
      "metadata": {
        "id": "rsDwAvv2hRFt",
        "colab_type": "text"
      },
      "cell_type": "markdown",
      "source": [
        "##Unpack .zip file"
      ]
    },
    {
      "metadata": {
        "id": "cE2i8hwihVS6",
        "colab_type": "code",
        "colab": {}
      },
      "cell_type": "code",
      "source": [
        "# I found it easier with the current options to manipulate the folder structure in Colab to set up the zip file in the desired file structure, e.g.:\n",
        "#\n",
        "# >LowLevel>firstLevel>actualFileOfInterest.jpg\n",
        "# >lowLevel>secondLevel>actualFileOfInterest.jpg\n",
        "\n",
        "# General:\n",
        "!unzip myZipFile.zip\n"
      ],
      "execution_count": 0,
      "outputs": []
    },
    {
      "metadata": {
        "id": "gocFxJaP_WyP",
        "colab_type": "text"
      },
      "cell_type": "markdown",
      "source": [
        "##Training Convolutional Neural Networks model based on imported data\n"
      ]
    },
    {
      "metadata": {
        "id": "FM6q86vr9mu7",
        "colab_type": "code",
        "colab": {}
      },
      "cell_type": "code",
      "source": [
        "!python retrain.py --image_dir \\tmp –-how_many_training_steps=5000 –-learning_rate=1"
      ],
      "execution_count": 0,
      "outputs": []
    }
  ]
}